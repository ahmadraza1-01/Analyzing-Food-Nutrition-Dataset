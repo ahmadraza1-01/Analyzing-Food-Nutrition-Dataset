{
 "cells": [
  {
   "cell_type": "code",
   "execution_count": null,
   "id": "fcad8a46-0280-4fd5-b3c0-67206a7af67b",
   "metadata": {},
   "outputs": [],
   "source": [
    "import numpy as np\n",
    "import pandas as pd\n",
    "import matplotlib.pyplot as plt\n",
    "import seaborn as sbn\n",
    "import scikit-learn as sl"
   ]
  },
  {
   "cell_type": "code",
   "execution_count": 1,
   "id": "3a0cefcd-b390-4509-ab3c-d90ce479a177",
   "metadata": {},
   "outputs": [
    {
     "name": "stdout",
     "output_type": "stream",
     "text": [
      "Requirement already satisfied: pandas in c:\\users\\asus\\anaconda3\\lib\\site-packages (2.2.2)\n",
      "Requirement already satisfied: numpy>=1.26.0 in c:\\users\\asus\\anaconda3\\lib\\site-packages (from pandas) (1.26.4)\n",
      "Requirement already satisfied: python-dateutil>=2.8.2 in c:\\users\\asus\\anaconda3\\lib\\site-packages (from pandas) (2.9.0.post0)\n",
      "Requirement already satisfied: pytz>=2020.1 in c:\\users\\asus\\anaconda3\\lib\\site-packages (from pandas) (2024.1)\n",
      "Requirement already satisfied: tzdata>=2022.7 in c:\\users\\asus\\anaconda3\\lib\\site-packages (from pandas) (2023.3)\n",
      "Requirement already satisfied: six>=1.5 in c:\\users\\asus\\anaconda3\\lib\\site-packages (from python-dateutil>=2.8.2->pandas) (1.16.0)\n"
     ]
    }
   ],
   "source": [
    "!pip install pandas"
   ]
  },
  {
   "cell_type": "code",
   "execution_count": 3,
   "id": "a24e2930-399a-4293-9554-3ad2437bd683",
   "metadata": {},
   "outputs": [
    {
     "name": "stdout",
     "output_type": "stream",
     "text": [
      "Requirement already satisfied: numpy in c:\\users\\asus\\anaconda3\\lib\\site-packages (1.26.4)\n"
     ]
    }
   ],
   "source": [
    "!pip install numpy"
   ]
  },
  {
   "cell_type": "code",
   "execution_count": 5,
   "id": "3f8292d6-e716-47ca-9ff5-fabe1c6d9a78",
   "metadata": {},
   "outputs": [
    {
     "name": "stdout",
     "output_type": "stream",
     "text": [
      "Requirement already satisfied: seaborn in c:\\users\\asus\\anaconda3\\lib\\site-packages (0.13.2)\n",
      "Requirement already satisfied: numpy!=1.24.0,>=1.20 in c:\\users\\asus\\anaconda3\\lib\\site-packages (from seaborn) (1.26.4)\n",
      "Requirement already satisfied: pandas>=1.2 in c:\\users\\asus\\anaconda3\\lib\\site-packages (from seaborn) (2.2.2)\n",
      "Requirement already satisfied: matplotlib!=3.6.1,>=3.4 in c:\\users\\asus\\anaconda3\\lib\\site-packages (from seaborn) (3.8.4)\n",
      "Requirement already satisfied: contourpy>=1.0.1 in c:\\users\\asus\\anaconda3\\lib\\site-packages (from matplotlib!=3.6.1,>=3.4->seaborn) (1.2.0)\n",
      "Requirement already satisfied: cycler>=0.10 in c:\\users\\asus\\anaconda3\\lib\\site-packages (from matplotlib!=3.6.1,>=3.4->seaborn) (0.11.0)\n",
      "Requirement already satisfied: fonttools>=4.22.0 in c:\\users\\asus\\anaconda3\\lib\\site-packages (from matplotlib!=3.6.1,>=3.4->seaborn) (4.51.0)\n",
      "Requirement already satisfied: kiwisolver>=1.3.1 in c:\\users\\asus\\anaconda3\\lib\\site-packages (from matplotlib!=3.6.1,>=3.4->seaborn) (1.4.4)\n",
      "Requirement already satisfied: packaging>=20.0 in c:\\users\\asus\\anaconda3\\lib\\site-packages (from matplotlib!=3.6.1,>=3.4->seaborn) (23.2)\n",
      "Requirement already satisfied: pillow>=8 in c:\\users\\asus\\anaconda3\\lib\\site-packages (from matplotlib!=3.6.1,>=3.4->seaborn) (10.3.0)\n",
      "Requirement already satisfied: pyparsing>=2.3.1 in c:\\users\\asus\\anaconda3\\lib\\site-packages (from matplotlib!=3.6.1,>=3.4->seaborn) (3.0.9)\n",
      "Requirement already satisfied: python-dateutil>=2.7 in c:\\users\\asus\\anaconda3\\lib\\site-packages (from matplotlib!=3.6.1,>=3.4->seaborn) (2.9.0.post0)\n",
      "Requirement already satisfied: pytz>=2020.1 in c:\\users\\asus\\anaconda3\\lib\\site-packages (from pandas>=1.2->seaborn) (2024.1)\n",
      "Requirement already satisfied: tzdata>=2022.7 in c:\\users\\asus\\anaconda3\\lib\\site-packages (from pandas>=1.2->seaborn) (2023.3)\n",
      "Requirement already satisfied: six>=1.5 in c:\\users\\asus\\anaconda3\\lib\\site-packages (from python-dateutil>=2.7->matplotlib!=3.6.1,>=3.4->seaborn) (1.16.0)\n"
     ]
    }
   ],
   "source": [
    "!pip install seaborn"
   ]
  },
  {
   "cell_type": "code",
   "execution_count": 7,
   "id": "bd794ec9-84e8-47c2-8b9b-3e2fd81b88c7",
   "metadata": {},
   "outputs": [
    {
     "name": "stdout",
     "output_type": "stream",
     "text": [
      "Requirement already satisfied: scikit-learn in c:\\users\\asus\\anaconda3\\lib\\site-packages (1.4.2)\n",
      "Requirement already satisfied: numpy>=1.19.5 in c:\\users\\asus\\anaconda3\\lib\\site-packages (from scikit-learn) (1.26.4)\n",
      "Requirement already satisfied: scipy>=1.6.0 in c:\\users\\asus\\anaconda3\\lib\\site-packages (from scikit-learn) (1.13.1)\n",
      "Requirement already satisfied: joblib>=1.2.0 in c:\\users\\asus\\anaconda3\\lib\\site-packages (from scikit-learn) (1.4.2)\n",
      "Requirement already satisfied: threadpoolctl>=2.0.0 in c:\\users\\asus\\anaconda3\\lib\\site-packages (from scikit-learn) (2.2.0)\n"
     ]
    }
   ],
   "source": [
    "!pip install scikit-learn"
   ]
  },
  {
   "cell_type": "code",
   "execution_count": 13,
   "id": "1556f8dc-b5c0-48df-962b-c521d792b922",
   "metadata": {},
   "outputs": [
    {
     "name": "stdout",
     "output_type": "stream",
     "text": [
      "Requirement already satisfied: matplotlib in c:\\users\\asus\\anaconda3\\lib\\site-packages (3.8.4)\n",
      "Requirement already satisfied: contourpy>=1.0.1 in c:\\users\\asus\\anaconda3\\lib\\site-packages (from matplotlib) (1.2.0)\n",
      "Requirement already satisfied: cycler>=0.10 in c:\\users\\asus\\anaconda3\\lib\\site-packages (from matplotlib) (0.11.0)\n",
      "Requirement already satisfied: fonttools>=4.22.0 in c:\\users\\asus\\anaconda3\\lib\\site-packages (from matplotlib) (4.51.0)\n",
      "Requirement already satisfied: kiwisolver>=1.3.1 in c:\\users\\asus\\anaconda3\\lib\\site-packages (from matplotlib) (1.4.4)\n",
      "Requirement already satisfied: numpy>=1.21 in c:\\users\\asus\\anaconda3\\lib\\site-packages (from matplotlib) (1.26.4)\n",
      "Requirement already satisfied: packaging>=20.0 in c:\\users\\asus\\anaconda3\\lib\\site-packages (from matplotlib) (23.2)\n",
      "Requirement already satisfied: pillow>=8 in c:\\users\\asus\\anaconda3\\lib\\site-packages (from matplotlib) (10.3.0)\n",
      "Requirement already satisfied: pyparsing>=2.3.1 in c:\\users\\asus\\anaconda3\\lib\\site-packages (from matplotlib) (3.0.9)\n",
      "Requirement already satisfied: python-dateutil>=2.7 in c:\\users\\asus\\anaconda3\\lib\\site-packages (from matplotlib) (2.9.0.post0)\n",
      "Requirement already satisfied: six>=1.5 in c:\\users\\asus\\anaconda3\\lib\\site-packages (from python-dateutil>=2.7->matplotlib) (1.16.0)\n"
     ]
    }
   ],
   "source": [
    "!pip install matplotlib"
   ]
  },
  {
   "cell_type": "code",
   "execution_count": 33,
   "id": "ee9f5f65-202c-453f-98b7-1e2e8deebd09",
   "metadata": {},
   "outputs": [],
   "source": [
    "import numpy as np\n",
    "import pandas as pd\n",
    "import matplotlib.pyplot as plt\n",
    "import seaborn as sbn\n",
    "import sklearn as skl"
   ]
  },
  {
   "cell_type": "code",
   "execution_count": 42,
   "id": "a2277b24-7195-4f9a-85b2-a3408c439463",
   "metadata": {},
   "outputs": [],
   "source": [
    "df = pd.read_csv(r'C:\\Users\\ASUS\\Downloads\\archive (7)\\FINAL FOOD DATASET\\FOOD-DATA-GROUP1.csv', encoding='unicode_escape')"
   ]
  },
  {
   "cell_type": "code",
   "execution_count": 46,
   "id": "4ad27425-b51f-4ce6-9ebf-02473876d749",
   "metadata": {},
   "outputs": [
    {
     "name": "stdout",
     "output_type": "stream",
     "text": [
      "   Unnamed: 0.1  Unnamed: 0                              food  Caloric Value  \\\n",
      "0             0           0                      cream cheese             51   \n",
      "1             1           1                 neufchatel cheese            215   \n",
      "2             2           2  requeijao cremoso light catupiry             49   \n",
      "3             3           3                    ricotta cheese             30   \n",
      "4             4           4              cream cheese low fat             30   \n",
      "5             5           5             cream cheese fat free             19   \n",
      "6             6           6                    gruyere cheese            116   \n",
      "7             7           7                    cheddar cheese            113   \n",
      "8             8           8                   parmesan cheese             71   \n",
      "9             9           9                     romano cheese             19   \n",
      "\n",
      "    Fat  Saturated Fats  Monounsaturated Fats  Polyunsaturated Fats  \\\n",
      "0   5.0             2.9                 1.300                 0.200   \n",
      "1  19.4            10.9                 4.900                 0.800   \n",
      "2   3.6             2.3                 0.900                 0.000   \n",
      "3   2.0             1.3                 0.500                 0.002   \n",
      "4   2.3             1.4                 0.600                 0.042   \n",
      "5   0.2             0.1                 0.091                 0.075   \n",
      "6   9.1             5.3                 2.800                 0.500   \n",
      "7   9.3             5.3                 2.600                 0.300   \n",
      "8   4.5             2.7                 1.400                 0.100   \n",
      "9   1.3             0.9                 0.400                 0.035   \n",
      "\n",
      "   Carbohydrates  Sugars  ...  Calcium  Copper   Iron  Magnesium  Manganese  \\\n",
      "0            0.8   0.500  ...    0.008  14.100  0.082      0.027      1.300   \n",
      "1            3.1   2.700  ...   99.500   0.034  0.100      8.500      0.088   \n",
      "2            0.9   3.400  ...    0.000   0.000  0.000      0.000      0.000   \n",
      "3            1.5   0.091  ...    0.097  41.200  0.097      0.096      4.000   \n",
      "4            1.2   0.900  ...   22.200   0.072  0.008      1.200      0.098   \n",
      "5            1.4   1.000  ...   63.200   0.039  0.053      4.000      0.028   \n",
      "6            0.1   0.100  ...  283.100   0.033  0.094     10.100      0.002   \n",
      "7            0.9   0.100  ...  198.800   0.099  0.077      7.600      0.063   \n",
      "8            0.6   0.046  ...  213.100   0.051  0.100      7.900      0.073   \n",
      "9            0.2   0.088  ...   53.200   0.046  0.030      2.100      0.002   \n",
      "\n",
      "   Phosphorus  Potassium  Selenium   Zinc  Nutrition Density  \n",
      "0       0.091       15.5    19.100  0.039              7.070  \n",
      "1     117.300      129.2     0.054  0.700            130.100  \n",
      "2       0.000        0.0     0.000  0.000              5.400  \n",
      "3       0.024       30.8    43.800  0.035              5.196  \n",
      "4      22.800       37.1     0.034  0.053             27.007  \n",
      "5      94.100       50.0     0.013  0.300             67.679  \n",
      "6     169.400       22.7     0.079  1.100            300.694  \n",
      "7     127.400       21.3     0.009  1.000            215.530  \n",
      "8     124.900       16.6     0.045  0.500            224.777  \n",
      "9      38.000        4.3     0.087  0.100             56.380  \n",
      "\n",
      "[10 rows x 37 columns]\n"
     ]
    }
   ],
   "source": [
    "print(df.head(10))"
   ]
  },
  {
   "cell_type": "code",
   "execution_count": null,
   "id": "143781ce-0dba-46fe-bd30-835c2bc0b01d",
   "metadata": {},
   "outputs": [],
   "source": []
  }
 ],
 "metadata": {
  "kernelspec": {
   "display_name": "Python 3 (ipykernel)",
   "language": "python",
   "name": "python3"
  },
  "language_info": {
   "codemirror_mode": {
    "name": "ipython",
    "version": 3
   },
   "file_extension": ".py",
   "mimetype": "text/x-python",
   "name": "python",
   "nbconvert_exporter": "python",
   "pygments_lexer": "ipython3",
   "version": "3.12.4"
  }
 },
 "nbformat": 4,
 "nbformat_minor": 5
}
